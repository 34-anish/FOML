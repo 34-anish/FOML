{
  "cells": [
    {
      "cell_type": "markdown",
      "metadata": {
        "id": "view-in-github",
        "colab_type": "text"
      },
      "source": [
        "<a href=\"https://colab.research.google.com/github/34-anish/FOML/blob/main/Question_No_2c.ipynb\" target=\"_parent\"><img src=\"https://colab.research.google.com/assets/colab-badge.svg\" alt=\"Open In Colab\"/></a>"
      ]
    },
    {
      "cell_type": "code",
      "execution_count": null,
      "metadata": {
        "colab": {
          "base_uri": "https://localhost:8080/"
        },
        "id": "gzs3askaJJV0",
        "outputId": "79baab9e-d287-4f76-c362-cc7176f64f8f"
      },
      "outputs": [
        {
          "name": "stdout",
          "output_type": "stream",
          "text": [
            "Requirement already satisfied: mord in c:\\users\\user\\appdata\\local\\programs\\python\\python310\\lib\\site-packages (0.7)\n"
          ]
        },
        {
          "name": "stderr",
          "output_type": "stream",
          "text": [
            "\n",
            "[notice] A new release of pip is available: 23.1.1 -> 23.2.1\n",
            "[notice] To update, run: python.exe -m pip install --upgrade pip\n"
          ]
        }
      ],
      "source": [
        "!pip install mord"
      ]
    },
    {
      "cell_type": "markdown",
      "metadata": {
        "id": "NKmQl_TSJy4X"
      },
      "source": [
        "## Data Preprocessing"
      ]
    },
    {
      "cell_type": "markdown",
      "metadata": {
        "id": "tTdHfuDM0Ke9"
      },
      "source": [
        "Since the quality is already in its natural order, the encoding is pretty straightforward approach to bring down the quality from `3->9 ` to `0->6`"
      ]
    },
    {
      "cell_type": "code",
      "execution_count": null,
      "metadata": {
        "id": "6gYDly3rJsic"
      },
      "outputs": [],
      "source": [
        "import pandas as pd\n",
        "url = \"winequality-white.csv\"\n",
        "wine_data = pd.read_csv(url, sep=\";\")\n",
        "\n",
        "from sklearn.preprocessing import OrdinalEncoder\n",
        "enc = OrdinalEncoder()\n",
        "wine_data[[\"quality\"]] = enc.fit_transform(wine_data[[\"quality\"]]).astype(int)"
      ]
    },
    {
      "cell_type": "code",
      "execution_count": null,
      "metadata": {
        "colab": {
          "base_uri": "https://localhost:8080/",
          "height": 223
        },
        "id": "305oaHi1eCZt",
        "outputId": "927ffb02-765e-44fd-943c-784f1a8778aa"
      },
      "outputs": [
        {
          "data": {
            "text/html": [
              "<div>\n",
              "<style scoped>\n",
              "    .dataframe tbody tr th:only-of-type {\n",
              "        vertical-align: middle;\n",
              "    }\n",
              "\n",
              "    .dataframe tbody tr th {\n",
              "        vertical-align: top;\n",
              "    }\n",
              "\n",
              "    .dataframe thead th {\n",
              "        text-align: right;\n",
              "    }\n",
              "</style>\n",
              "<table border=\"1\" class=\"dataframe\">\n",
              "  <thead>\n",
              "    <tr style=\"text-align: right;\">\n",
              "      <th></th>\n",
              "      <th>fixed acidity</th>\n",
              "      <th>volatile acidity</th>\n",
              "      <th>citric acid</th>\n",
              "      <th>residual sugar</th>\n",
              "      <th>chlorides</th>\n",
              "      <th>free sulfur dioxide</th>\n",
              "      <th>total sulfur dioxide</th>\n",
              "      <th>density</th>\n",
              "      <th>pH</th>\n",
              "      <th>sulphates</th>\n",
              "      <th>alcohol</th>\n",
              "      <th>quality</th>\n",
              "    </tr>\n",
              "  </thead>\n",
              "  <tbody>\n",
              "    <tr>\n",
              "      <th>829</th>\n",
              "      <td>7.1</td>\n",
              "      <td>0.16</td>\n",
              "      <td>0.36</td>\n",
              "      <td>1.2</td>\n",
              "      <td>0.043</td>\n",
              "      <td>21.0</td>\n",
              "      <td>90.0</td>\n",
              "      <td>0.99250</td>\n",
              "      <td>3.16</td>\n",
              "      <td>0.42</td>\n",
              "      <td>11.0</td>\n",
              "      <td>4</td>\n",
              "    </tr>\n",
              "    <tr>\n",
              "      <th>3447</th>\n",
              "      <td>6.0</td>\n",
              "      <td>0.17</td>\n",
              "      <td>0.29</td>\n",
              "      <td>9.7</td>\n",
              "      <td>0.044</td>\n",
              "      <td>33.0</td>\n",
              "      <td>98.0</td>\n",
              "      <td>0.99536</td>\n",
              "      <td>3.12</td>\n",
              "      <td>0.36</td>\n",
              "      <td>9.2</td>\n",
              "      <td>3</td>\n",
              "    </tr>\n",
              "    <tr>\n",
              "      <th>189</th>\n",
              "      <td>6.5</td>\n",
              "      <td>0.28</td>\n",
              "      <td>0.28</td>\n",
              "      <td>8.5</td>\n",
              "      <td>0.047</td>\n",
              "      <td>54.0</td>\n",
              "      <td>210.0</td>\n",
              "      <td>0.99620</td>\n",
              "      <td>3.09</td>\n",
              "      <td>0.54</td>\n",
              "      <td>8.9</td>\n",
              "      <td>1</td>\n",
              "    </tr>\n",
              "    <tr>\n",
              "      <th>978</th>\n",
              "      <td>7.7</td>\n",
              "      <td>0.28</td>\n",
              "      <td>0.33</td>\n",
              "      <td>6.7</td>\n",
              "      <td>0.037</td>\n",
              "      <td>32.0</td>\n",
              "      <td>155.0</td>\n",
              "      <td>0.99510</td>\n",
              "      <td>3.39</td>\n",
              "      <td>0.62</td>\n",
              "      <td>10.7</td>\n",
              "      <td>4</td>\n",
              "    </tr>\n",
              "    <tr>\n",
              "      <th>1374</th>\n",
              "      <td>6.9</td>\n",
              "      <td>0.23</td>\n",
              "      <td>0.34</td>\n",
              "      <td>2.7</td>\n",
              "      <td>0.032</td>\n",
              "      <td>24.0</td>\n",
              "      <td>121.0</td>\n",
              "      <td>0.99020</td>\n",
              "      <td>3.14</td>\n",
              "      <td>0.38</td>\n",
              "      <td>12.4</td>\n",
              "      <td>4</td>\n",
              "    </tr>\n",
              "  </tbody>\n",
              "</table>\n",
              "</div>"
            ],
            "text/plain": [
              "      fixed acidity  volatile acidity  citric acid  residual sugar  chlorides  \\\n",
              "829             7.1              0.16         0.36             1.2      0.043   \n",
              "3447            6.0              0.17         0.29             9.7      0.044   \n",
              "189             6.5              0.28         0.28             8.5      0.047   \n",
              "978             7.7              0.28         0.33             6.7      0.037   \n",
              "1374            6.9              0.23         0.34             2.7      0.032   \n",
              "\n",
              "      free sulfur dioxide  total sulfur dioxide  density    pH  sulphates  \\\n",
              "829                  21.0                  90.0  0.99250  3.16       0.42   \n",
              "3447                 33.0                  98.0  0.99536  3.12       0.36   \n",
              "189                  54.0                 210.0  0.99620  3.09       0.54   \n",
              "978                  32.0                 155.0  0.99510  3.39       0.62   \n",
              "1374                 24.0                 121.0  0.99020  3.14       0.38   \n",
              "\n",
              "      alcohol  quality  \n",
              "829      11.0        4  \n",
              "3447      9.2        3  \n",
              "189       8.9        1  \n",
              "978      10.7        4  \n",
              "1374     12.4        4  "
            ]
          },
          "execution_count": 4,
          "metadata": {},
          "output_type": "execute_result"
        }
      ],
      "source": [
        "wine_data.sample(n=5)"
      ]
    },
    {
      "cell_type": "markdown",
      "metadata": {
        "id": "nhxNpNgiRQym"
      },
      "source": [
        "## Data Splitting"
      ]
    },
    {
      "cell_type": "markdown",
      "metadata": {
        "id": "sleJzL6-w8UP"
      },
      "source": [
        "The 80-20 split is performed in the dataset."
      ]
    },
    {
      "cell_type": "code",
      "execution_count": null,
      "metadata": {
        "id": "hcxBiVLqQ7qa"
      },
      "outputs": [],
      "source": [
        "from sklearn.model_selection import train_test_split\n",
        "\n",
        "X = wine_data.drop(\"quality\", axis=1)\n",
        "y = wine_data[\"quality\"]\n",
        "\n",
        "x_train, x_test, y_train, y_test = train_test_split(X, y, test_size=0.2, random_state=42)"
      ]
    },
    {
      "cell_type": "markdown",
      "metadata": {
        "id": "lWTQriHCce1V"
      },
      "source": [
        "## Normalizing data"
      ]
    },
    {
      "cell_type": "markdown",
      "metadata": {
        "id": "LqAA73hnxLTx"
      },
      "source": [
        "Here, we perform normalization on the x values so as to make sure that features come to same scales. Also since we are considering all 11 features as x vector, it is supposed to make convergence faster."
      ]
    },
    {
      "cell_type": "code",
      "execution_count": null,
      "metadata": {
        "id": "1pJvOQBXcdPU"
      },
      "outputs": [],
      "source": [
        "from sklearn.preprocessing import StandardScaler\n",
        "\n",
        "scaler = StandardScaler()\n",
        "x_train_normalized = scaler.fit_transform(x_train)\n",
        "x_test_normalized = scaler.transform(x_test)"
      ]
    },
    {
      "cell_type": "markdown",
      "metadata": {
        "id": "xOu9jsAqXbaP"
      },
      "source": [
        "## Fitting the model"
      ]
    },
    {
      "cell_type": "markdown",
      "metadata": {
        "id": "iwrIq9oiygZO"
      },
      "source": [
        "We use [mord](https://pythonhosted.org/mord/) library, which has **OrdinalRidge** as the *Regression-based model* for ordinal regression task."
      ]
    },
    {
      "cell_type": "code",
      "execution_count": null,
      "metadata": {
        "id": "nY8sUj83RyFx"
      },
      "outputs": [],
      "source": [
        "assert(len(x_train_normalized) == len(y_train))\n",
        "\n",
        "from mord import OrdinalRidge\n",
        "\n",
        "model = OrdinalRidge()\n",
        "model.fit(x_train_normalized, y_train)\n",
        "y_hat = model.predict(x_test_normalized)"
      ]
    },
    {
      "cell_type": "markdown",
      "metadata": {
        "id": "jJQN-RRow2Rs"
      },
      "source": [
        "## Evaluation Metrics\n"
      ]
    },
    {
      "cell_type": "markdown",
      "metadata": {
        "id": "fD5FpoUf4ASt"
      },
      "source": [
        "We have utilized two evaluation metrics which quantify the accuracy of predictive ordinal scales `{ ̂y1,...,ŷt}` with respect to true targets `{y1,...,yt}`:\n",
        "\n",
        "\n",
        "*   ***Mean absolute error*** is the average deviation of the prediction from the true target, in which we treat the ordinal scales as consecutive integers;\n",
        "*   ***Mean zero-one error*** gives an error of 1 to every incorrect prediction that is the fraction of incorrect predictions.\n",
        "\n",
        "Our objective is to minimize both the metric.\n",
        "\n"
      ]
    },
    {
      "cell_type": "code",
      "execution_count": null,
      "metadata": {
        "colab": {
          "base_uri": "https://localhost:8080/"
        },
        "id": "DXVNVuejfqu2",
        "outputId": "aae52a4e-344f-4ca4-f200-7cf00af775d3"
      },
      "outputs": [
        {
          "name": "stdout",
          "output_type": "stream",
          "text": [
            "0.5408163265306123 0.4857142857142857\n"
          ]
        }
      ],
      "source": [
        "from sklearn.metrics import mean_absolute_error\n",
        "\n",
        "def mean_zo_error(y_true, y_pred):\n",
        "  n = len(y_true)\n",
        "  error_count = sum(int(y_hat != y) for y_hat, y in zip(y_pred, y_true))\n",
        "  mean_zo_error = error_count / n\n",
        "  return mean_zo_error\n",
        "\n",
        "mae = mean_absolute_error(y_test, y_hat)\n",
        "mzo_error = mean_zo_error(y_test, y_hat)\n",
        "\n",
        "print(mae, mzo_error)"
      ]
    },
    {
      "cell_type": "markdown",
      "metadata": {
        "id": "VllnE07g107_"
      },
      "source": [
        "## Comparision with Linear and Logistic Regression"
      ]
    },
    {
      "cell_type": "code",
      "execution_count": null,
      "metadata": {
        "colab": {
          "base_uri": "https://localhost:8080/"
        },
        "id": "YHDCtRQHVC-p",
        "outputId": "a149c1b7-fd02-439f-be05-20bfa1ccee1d"
      },
      "outputs": [
        {
          "name": "stdout",
          "output_type": "stream",
          "text": [
            "0.5862665383250467 1.0\n"
          ]
        }
      ],
      "source": [
        "from sklearn.linear_model import LinearRegression\n",
        "\n",
        "lin_model = LinearRegression()\n",
        "lin_model.fit(x_train_normalized, y_train)\n",
        "y_pred_lin = lin_model.predict(x_test_normalized)\n",
        "\n",
        "mse_lin = mean_absolute_error(y_test, y_pred_lin)\n",
        "mzo_error_lin = mean_zo_error(y_test, y_pred_lin)\n",
        "print(mse_lin, mzo_error_lin)\n"
      ]
    },
    {
      "cell_type": "markdown",
      "metadata": {
        "id": "XBz8AEb4ESAF"
      },
      "source": [
        "We see that mean zero one error for linear regression is very high (i.e. almost close to 1 or maybe 1 depending upon test_data), so the predicted quality does not fall in same level as the true quality when we use linear regression. However the MAE does show relatively smaller value, it is not a good metric to be used as **single statistic** for our problem."
      ]
    },
    {
      "cell_type": "code",
      "execution_count": null,
      "metadata": {
        "colab": {
          "base_uri": "https://localhost:8080/"
        },
        "id": "xX1x73cP2Rij",
        "outputId": "f2a2359b-f5d9-4bd0-f39b-7a3759c47989"
      },
      "outputs": [
        {
          "name": "stdout",
          "output_type": "stream",
          "text": [
            "0.539795918367347 0.46938775510204084\n"
          ]
        },
        {
          "name": "stderr",
          "output_type": "stream",
          "text": [
            "C:\\Users\\User\\AppData\\Local\\Programs\\Python\\Python310\\lib\\site-packages\\sklearn\\linear_model\\_logistic.py:444: ConvergenceWarning: lbfgs failed to converge (status=1):\n",
            "STOP: TOTAL NO. of ITERATIONS REACHED LIMIT.\n",
            "\n",
            "Increase the number of iterations (max_iter) or scale the data as shown in:\n",
            "    https://scikit-learn.org/stable/modules/preprocessing.html\n",
            "Please also refer to the documentation for alternative solver options:\n",
            "    https://scikit-learn.org/stable/modules/linear_model.html#logistic-regression\n",
            "  n_iter_i = _check_optimize_result(\n"
          ]
        }
      ],
      "source": [
        "from sklearn.linear_model import LogisticRegression\n",
        "log_model = LogisticRegression()\n",
        "log_model.fit(x_train_normalized, y_train)\n",
        "y_pred_log = log_model.predict(x_test_normalized)\n",
        "\n",
        "mse_log = mean_absolute_error(y_test, y_pred_log)\n",
        "mzo_error_log = mean_zo_error(y_test, y_pred_log)\n",
        "print(mse_log, mzo_error_log)"
      ]
    },
    {
      "cell_type": "code",
      "execution_count": null,
      "metadata": {
        "id": "qQgHHFrDZb0p"
      },
      "outputs": [],
      "source": []
    },
    {
      "cell_type": "code",
      "execution_count": null,
      "metadata": {
        "id": "hoh7gUiNZb0p"
      },
      "outputs": [],
      "source": []
    }
  ],
  "metadata": {
    "colab": {
      "provenance": [],
      "include_colab_link": true
    },
    "kernelspec": {
      "display_name": "Python 3 (ipykernel)",
      "language": "python",
      "name": "python3"
    },
    "language_info": {
      "codemirror_mode": {
        "name": "ipython",
        "version": 3
      },
      "file_extension": ".py",
      "mimetype": "text/x-python",
      "name": "python",
      "nbconvert_exporter": "python",
      "pygments_lexer": "ipython3",
      "version": "3.10.6"
    }
  },
  "nbformat": 4,
  "nbformat_minor": 0
}